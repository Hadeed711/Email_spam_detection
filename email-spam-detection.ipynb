{
 "cells": [
  {
   "cell_type": "markdown",
   "id": "95ebe67c-af5a-496b-b622-67e30b736b7f",
   "metadata": {},
   "source": [
    "# Email Spam Detection with Machine Learning\n",
    "\n",
    "\n",
    "**Objective:** Build a pipeline that loads an email dataset, preprocesses the text, extracts features (TF‑IDF), trains classifiers, evaluates their performance, and saves the best model for inference.\n",
    "\n",
    "\n",
    "**Notes:**\n",
    "- Replace `DATA_PATH` in the code cell with the path to your CSV file (e.g. `\"/mnt/data/spam.csv\"`).\n",
    "- This notebook provides a simple baseline and suggestions for improvements."
   ]
  },
  {
   "cell_type": "code",
   "execution_count": 1,
   "id": "0ff80a9e-5823-4d99-91be-b1521dfc704d",
   "metadata": {},
   "outputs": [],
   "source": [
    "# Imports\n",
    "import os\n",
    "import re\n",
    "import string\n",
    "import numpy as np\n",
    "import pandas as pd\n",
    "from pathlib import Path\n",
    "\n",
    "# sklearn\n",
    "from sklearn.model_selection import train_test_split, GridSearchCV, cross_val_score\n",
    "from sklearn.feature_extraction.text import TfidfVectorizer\n",
    "from sklearn.pipeline import Pipeline\n",
    "from sklearn.naive_bayes import MultinomialNB\n",
    "from sklearn.linear_model import LogisticRegression\n",
    "from sklearn.ensemble import RandomForestClassifier\n",
    "from sklearn.svm import LinearSVC\n",
    "from sklearn.metrics import (\n",
    "accuracy_score, precision_score, recall_score, f1_score,\n",
    "classification_report, confusion_matrix, roc_auc_score\n",
    ")\n",
    "\n",
    "import joblib\n",
    "\n",
    "# NLTK for text preprocessing\n",
    "import nltk\n",
    "from nltk.corpus import stopwords\n",
    "from nltk.stem import WordNetLemmatizer\n",
    "\n",
    "# Optional plotting\n",
    "import matplotlib.pyplot as plt\n",
    "import seaborn as sns\n"
   ]
  },
  {
   "cell_type": "markdown",
   "id": "1ed24592-e1f4-4822-ae0d-e5b396bc5821",
   "metadata": {},
   "source": [
    "## Load dataset\n",
    "\n",
    "\n",
    "- Set `DATA_PATH` to your CSV file.\n",
    "- Common encodings: `utf-8`, or `latin-1` for older SMS/spam datasets.\n",
    "- After loading, inspect `df.head()` and `df.info()` to confirm column names."
   ]
  },
  {
   "cell_type": "code",
   "execution_count": 2,
   "id": "258d6d75-1ebf-4396-a69f-c71ac13fbb7e",
   "metadata": {},
   "outputs": [
    {
     "name": "stdout",
     "output_type": "stream",
     "text": [
      "Loaded shape: (5572, 5)\n",
      "Columns: ['v1', 'v2', 'Unnamed: 2', 'Unnamed: 3', 'Unnamed: 4']\n"
     ]
    }
   ],
   "source": [
    "DATA_PATH = 'spam.csv' \n",
    "\n",
    "# Load CSV with fallback encodings\n",
    "df = pd.read_csv(DATA_PATH, encoding='latin-1')\n",
    "\n",
    "print('Loaded shape:', df.shape)\n",
    "print('Columns:', list(df.columns))"
   ]
  },
  {
   "cell_type": "code",
   "execution_count": 3,
   "id": "43396831-3182-4116-a4c1-e5f777051652",
   "metadata": {},
   "outputs": [],
   "source": [
    "# Many spam datasets use columns named ['label','text'] or ['v1','v2']\n",
    "possible_label_cols = ['label', 'Label', 'target', 'class', 'v1', 'Category']\n",
    "possible_text_cols = ['text', 'Text', 'message', 'Message', 'v2', 'content', 'email']\n",
    "label_col = None\n",
    "text_col = None\n",
    "for c in df.columns:\n",
    "    if c in possible_label_cols and label_col is None:\n",
    "        label_col = c\n",
    "    if c in possible_text_cols and text_col is None:\n",
    "        text_col = c\n"
   ]
  },
  {
   "cell_type": "code",
   "execution_count": 4,
   "id": "491d47c4-6e41-4dfa-b280-87b6475319e4",
   "metadata": {},
   "outputs": [],
   "source": [
    "# If detection failed, ask user to set names manually\n",
    "if label_col is None or text_col is None:\n",
    "    print('\\nCould not auto-detect label/text columns.\\nPlease inspect `df.columns` above and set these variables manually:')\n",
    "    # Example:\n",
    "    # label_col = 'v1'\n",
    "    # text_col = 'v2'\n",
    "    # For now, raise an informative error to remind you to edit the variables.\n",
    "    raise ValueError('Set label_col and text_col variables to match your CSV column names.')"
   ]
  },
  {
   "cell_type": "code",
   "execution_count": 5,
   "id": "68f00d4e-22be-478a-a494-38e29af48ee1",
   "metadata": {},
   "outputs": [
    {
     "name": "stdout",
     "output_type": "stream",
     "text": [
      "  label                                               text Unnamed: 2  \\\n",
      "0   ham  Go until jurong point, crazy.. Available only ...        NaN   \n",
      "1   ham                      Ok lar... Joking wif u oni...        NaN   \n",
      "2  spam  Free entry in 2 a wkly comp to win FA Cup fina...        NaN   \n",
      "3   ham  U dun say so early hor... U c already then say...        NaN   \n",
      "4   ham  Nah I don't think he goes to usf, he lives aro...        NaN   \n",
      "\n",
      "  Unnamed: 3 Unnamed: 4  \n",
      "0        NaN        NaN  \n",
      "1        NaN        NaN  \n",
      "2        NaN        NaN  \n",
      "3        NaN        NaN  \n",
      "4        NaN        NaN  \n"
     ]
    }
   ],
   "source": [
    "# Rename to standard names for the rest of notebook\n",
    "df = df.rename(columns={label_col: 'label', text_col: 'text'})\n",
    "print(df.head())"
   ]
  },
  {
   "cell_type": "markdown",
   "id": "0687342a-fee4-4774-8b8f-8b0f3a4453a2",
   "metadata": {},
   "source": [
    "## Exploratory Data Analysis (EDA)\n",
    "- Check class distribution (spam vs ham).\n",
    "- Check for missing values.\n",
    "- Inspect examples from each class."
   ]
  },
  {
   "cell_type": "code",
   "execution_count": 6,
   "id": "d0d86fe1-07b2-44e5-a937-53b5a1e59311",
   "metadata": {},
   "outputs": [
    {
     "name": "stdout",
     "output_type": "stream",
     "text": [
      "Missing values:\n",
      "label            0\n",
      "text             0\n",
      "Unnamed: 2    5522\n",
      "Unnamed: 3    5560\n",
      "Unnamed: 4    5566\n",
      "dtype: int64\n",
      "\n",
      "Class distribution:\n",
      "label\n",
      "ham     4825\n",
      "spam     747\n",
      "Name: count, dtype: int64\n",
      "\n",
      "Examples of spam:\n",
      "2    Free entry in 2 a wkly comp to win FA Cup fina...\n",
      "5    FreeMsg Hey there darling it's been 3 week's n...\n",
      "8    WINNER!! As a valued network customer you have...\n",
      "Name: text, dtype: object\n",
      "\n",
      "Examples of ham:\n",
      "0    Go until jurong point, crazy.. Available only ...\n",
      "1                        Ok lar... Joking wif u oni...\n",
      "3    U dun say so early hor... U c already then say...\n",
      "Name: text, dtype: object\n"
     ]
    }
   ],
   "source": [
    "# Basic checks\n",
    "print('Missing values:')\n",
    "print(df.isnull().sum())\n",
    "\n",
    "# Drop rows with missing text\n",
    "df = df.dropna(subset=['text']).reset_index(drop=True)\n",
    "\n",
    "print('\\nClass distribution:')\n",
    "print(df['label'].value_counts())\n",
    "\n",
    "# Show a few examples (uncomment to view)\n",
    "print('\\nExamples of spam:')\n",
    "print(df[df['label'].str.lower().isin(['spam','1','true'])]['text'].head(3))\n",
    "print('\\nExamples of ham:')\n",
    "print(df[~df['label'].str.lower().isin(['spam','1','true'])]['text'].head(3))"
   ]
  },
  {
   "cell_type": "markdown",
   "id": "20e19f1c-44c5-4ae6-95be-79792ebec2e4",
   "metadata": {},
   "source": [
    "## Preprocessing plan\n",
    "1. Normalize labels to binary: `spam` -> 1, `ham` (or others) -> 0.\n",
    "2. Clean text: remove URLs, emails, punctuation, numeric tokens.\n",
    "3. Tokenize, remove stopwords, and lemmatize.\n",
    "4. Convert to TF‑IDF features.\n",
    "\n",
    "\n",
    "We'll create a `clean_text()` function and apply it to the `text` column."
   ]
  },
  {
   "cell_type": "code",
   "execution_count": 8,
   "id": "11d6b141-13c4-4eb1-857f-b367b01fa89b",
   "metadata": {},
   "outputs": [
    {
     "name": "stderr",
     "output_type": "stream",
     "text": [
      "[nltk_data] Downloading package wordnet to\n",
      "[nltk_data]     C:\\Users\\hadee\\AppData\\Roaming\\nltk_data...\n",
      "[nltk_data] Downloading package omw-1.4 to\n",
      "[nltk_data]     C:\\Users\\hadee\\AppData\\Roaming\\nltk_data...\n",
      "[nltk_data] Downloading package stopwords to\n",
      "[nltk_data]     C:\\Users\\hadee\\AppData\\Roaming\\nltk_data...\n",
      "[nltk_data]   Unzipping corpora\\stopwords.zip.\n"
     ]
    },
    {
     "data": {
      "text/plain": [
       "True"
      ]
     },
     "execution_count": 8,
     "metadata": {},
     "output_type": "execute_result"
    }
   ],
   "source": [
    "import nltk\n",
    "\n",
    "# Download required NLTK resources\n",
    "nltk.download('wordnet')\n",
    "nltk.download('omw-1.4')  \n",
    "nltk.download('stopwords')\n"
   ]
  },
  {
   "cell_type": "code",
   "execution_count": 9,
   "id": "0136036a-ef7a-4923-abbb-30497e663c8b",
   "metadata": {
    "scrolled": true
   },
   "outputs": [],
   "source": [
    "from nltk.corpus import stopwords\n",
    "from nltk.stem import WordNetLemmatizer\n",
    "import re, string\n",
    "\n",
    "lemmatizer = WordNetLemmatizer()\n",
    "stop_words = set(stopwords.words('english'))\n",
    "\n",
    "url_pattern = re.compile(r'https?://\\S+|www\\.\\S+')\n",
    "email_pattern = re.compile(r'\\S+@\\S+')\n",
    "\n",
    "def clean_text(s: str) -> str:\n",
    "    if not isinstance(s, str):\n",
    "        return ''\n",
    "    s = s.lower()\n",
    "    s = url_pattern.sub(' ', s)\n",
    "    s = email_pattern.sub(' ', s)\n",
    "    s = re.sub(r'\\d+', ' ', s)  # remove numbers\n",
    "    s = s.translate(str.maketrans('', '', string.punctuation))  # remove punctuation\n",
    "    tokens = [tok for tok in re.split(r'\\s+', s) if len(tok) > 1]\n",
    "    tokens = [lemmatizer.lemmatize(tok) for tok in tokens if tok not in stop_words]\n",
    "    return ' '.join(tokens)\n",
    "\n",
    "df['clean_text'] = df['text'].apply(clean_text)\n"
   ]
  },
  {
   "cell_type": "markdown",
   "id": "8e9c2f30-43c9-48fe-aa42-d02f93d18c65",
   "metadata": {},
   "source": [
    "## Encode labels & prepare features\n",
    "- Convert label column to binary values (0/1).\n",
    "- Use the `clean_text` function to create the cleaned text column used for modeling."
   ]
  },
  {
   "cell_type": "code",
   "execution_count": 12,
   "id": "3244d6ac-82d1-4fcb-a94f-afa652970ee8",
   "metadata": {},
   "outputs": [
    {
     "name": "stdout",
     "output_type": "stream",
     "text": [
      "Unique labels (raw): ['ham' 'spam']\n",
      "\n",
      "Applying text cleaning (may take a moment for large datasets)...\n",
      "\n",
      "Prepared X and y. Example cleaned text:\n",
      "0    go jurong point crazy available bugis great wo...\n",
      "1                                ok lar joking wif oni\n",
      "2    free entry wkly comp win fa cup final tkts st ...\n",
      "Name: clean_text, dtype: object\n"
     ]
    }
   ],
   "source": [
    "# Normalize labels — try common patterns\n",
    "label_map = {}\n",
    "# Common label cleaning\n",
    "unique_labels = df['label'].unique()\n",
    "print('Unique labels (raw):', unique_labels)\n",
    "\n",
    "\n",
    "# Example heuristics — edit if your labels differ\n",
    "label_map_candidates = {\n",
    "'spam': 1,\n",
    "'ham': 0,\n",
    "'0': 0,\n",
    "'1': 1,\n",
    "'true': 1,\n",
    "'false': 0,\n",
    "'yes': 1,\n",
    "'no': 0\n",
    "}\n",
    "\n",
    "\n",
    "# Build label_map guided by what exists in dataset\n",
    "for lab in unique_labels:\n",
    "    lab_low = str(lab).strip().lower()\n",
    "    if lab_low in label_map_candidates:\n",
    "        label_map[lab] = label_map_candidates[lab_low]\n",
    "\n",
    "\n",
    "# If mapping is incomplete, try manual mapping\n",
    "if len(label_map) == 0:\n",
    "    raise ValueError('Automatic label mapping failed. Please create a `label_map` dict mapping raw labels to 0/1.')\n",
    "\n",
    "\n",
    "# Map labels\n",
    "df['label_num'] = df['label'].map(label_map)\n",
    "if df['label_num'].isnull().any():\n",
    "# If some labels didn't map, show them\n",
    "    print('Labels that failed to map:', df[df['label_num'].isnull()]['label'].unique())\n",
    "    raise ValueError('Please expand `label_map` to include all raw labels.')\n",
    "\n",
    "\n",
    "# Create cleaned text column\n",
    "print('\\nApplying text cleaning (may take a moment for large datasets)...')\n",
    "df['clean_text'] = df['text'].apply(clean_text)\n",
    "\n",
    "\n",
    "# Features and target\n",
    "X = df['clean_text']\n",
    "y = df['label_num'].astype(int)\n",
    "\n",
    "\n",
    "print('\\nPrepared X and y. Example cleaned text:')\n",
    "print(X.head(3))"
   ]
  },
  {
   "cell_type": "markdown",
   "id": "99aac408-815f-4219-bfbe-fc9eb8cf4737",
   "metadata": {},
   "source": [
    "## Train / Validation split and baseline model\n",
    "- Split dataset (e.g. 80/20 or 70/30).\n",
    "- Baseline model: TF‑IDF -> MultinomialNB (works well for text counts)."
   ]
  },
  {
   "cell_type": "code",
   "execution_count": 14,
   "id": "7eb02885-fb8b-44bd-a867-f5a5e8472b69",
   "metadata": {},
   "outputs": [
    {
     "name": "stdout",
     "output_type": "stream",
     "text": [
      "Accuracy: 0.9713004484304932\n",
      "              precision    recall  f1-score   support\n",
      "\n",
      "           0       0.97      1.00      0.98       966\n",
      "           1       0.99      0.79      0.88       149\n",
      "\n",
      "    accuracy                           0.97      1115\n",
      "   macro avg       0.98      0.90      0.93      1115\n",
      "weighted avg       0.97      0.97      0.97      1115\n",
      "\n",
      "Confusion matrix:\n",
      " [[965   1]\n",
      " [ 31 118]]\n",
      "CV F1 scores: [0.90909091 0.86792453 0.87121212 0.89219331 0.89377289]\n"
     ]
    }
   ],
   "source": [
    "from sklearn.model_selection import train_test_split\n",
    "RANDOM_STATE = 42\n",
    "\n",
    "X_train, X_test, y_train, y_test = train_test_split(\n",
    "    X, y, \n",
    "    test_size=0.2, \n",
    "    random_state=RANDOM_STATE, \n",
    "    stratify=y\n",
    ")\n",
    "\n",
    "\n",
    "# Baseline pipeline\n",
    "baseline_pipeline = Pipeline([\n",
    "('tfidf', TfidfVectorizer(max_df=0.95, min_df=2)),\n",
    "('clf', MultinomialNB())\n",
    "])\n",
    "\n",
    "\n",
    "# Train baseline \n",
    "baseline_pipeline.fit(X_train, y_train)\n",
    "y_pred = baseline_pipeline.predict(X_test)\n",
    "\n",
    "\n",
    "# Evaluate\n",
    "print('Accuracy:', accuracy_score(y_test, y_pred))\n",
    "print(classification_report(y_test, y_pred))\n",
    "cm = confusion_matrix(y_test, y_pred)\n",
    "print('Confusion matrix:\\n', cm)\n",
    "\n",
    "\n",
    "# Cross validation example\n",
    "scores = cross_val_score(baseline_pipeline, X, y, cv=5, scoring='f1')\n",
    "print('CV F1 scores:', scores)"
   ]
  },
  {
   "cell_type": "markdown",
   "id": "b1098557-e1f3-4fe7-8f37-3e771b32c17c",
   "metadata": {},
   "source": [
    "## Try other models\n",
    "- Logistic Regression (often strong for text classification)\n",
    "- LinearSVC\n",
    "- RandomForest (can be slower for TF‑IDF vectors)\n",
    "\n",
    "\n",
    "We'll compare a few using identical TF‑IDF settings for fairness."
   ]
  },
  {
   "cell_type": "code",
   "execution_count": 15,
   "id": "454582a6-d0f7-4554-bf9d-05bc3a8c103d",
   "metadata": {},
   "outputs": [
    {
     "name": "stdout",
     "output_type": "stream",
     "text": [
      "Fitting and evaluating: RandomForest (this cell may take time for some models)\n"
     ]
    },
    {
     "data": {
      "text/html": [
       "<div>\n",
       "<style scoped>\n",
       "    .dataframe tbody tr th:only-of-type {\n",
       "        vertical-align: middle;\n",
       "    }\n",
       "\n",
       "    .dataframe tbody tr th {\n",
       "        vertical-align: top;\n",
       "    }\n",
       "\n",
       "    .dataframe thead th {\n",
       "        text-align: right;\n",
       "    }\n",
       "</style>\n",
       "<table border=\"1\" class=\"dataframe\">\n",
       "  <thead>\n",
       "    <tr style=\"text-align: right;\">\n",
       "      <th></th>\n",
       "      <th>accuracy</th>\n",
       "      <th>precision</th>\n",
       "      <th>recall</th>\n",
       "      <th>f1</th>\n",
       "    </tr>\n",
       "  </thead>\n",
       "  <tbody>\n",
       "    <tr>\n",
       "      <th>RandomForest</th>\n",
       "      <td>0.977578</td>\n",
       "      <td>0.992063</td>\n",
       "      <td>0.838926</td>\n",
       "      <td>0.909091</td>\n",
       "    </tr>\n",
       "  </tbody>\n",
       "</table>\n",
       "</div>"
      ],
      "text/plain": [
       "              accuracy  precision    recall        f1\n",
       "RandomForest  0.977578   0.992063  0.838926  0.909091"
      ]
     },
     "execution_count": 15,
     "metadata": {},
     "output_type": "execute_result"
    }
   ],
   "source": [
    "models = {\n",
    "'MultinomialNB': MultinomialNB(),\n",
    "'LogisticRegression': LogisticRegression(max_iter=1000, random_state=RANDOM_STATE),\n",
    "'LinearSVC': LinearSVC(max_iter=5000, random_state=RANDOM_STATE),\n",
    "'RandomForest': RandomForestClassifier(n_estimators=200, random_state=RANDOM_STATE)\n",
    "}\n",
    "\n",
    "\n",
    "results = {}\n",
    "for name, clf in models.items():\n",
    "    pipe = Pipeline([\n",
    "    ('tfidf', TfidfVectorizer(max_df=0.95, min_df=2)),\n",
    "    ('clf', clf)\n",
    "    ])\n",
    "print(f'Fitting and evaluating: {name} (this cell may take time for some models)')\n",
    "# Uncomment the following lines to run training and evaluation\n",
    "pipe.fit(X_train, y_train)\n",
    "y_pred = pipe.predict(X_test)\n",
    "results[name] = {\n",
    "'accuracy': accuracy_score(y_test, y_pred),\n",
    "'precision': precision_score(y_test, y_pred, zero_division=0),\n",
    "'recall': recall_score(y_test, y_pred, zero_division=0),\n",
    "'f1': f1_score(y_test, y_pred, zero_division=0)\n",
    "}\n",
    "\n",
    "\n",
    "# After running the above, display results\n",
    "pd.DataFrame(results).T.sort_values('f1', ascending=False)"
   ]
  },
  {
   "cell_type": "markdown",
   "id": "642997fa-2027-4bbf-8ce3-46d039f33d21",
   "metadata": {},
   "source": [
    "## 📊 Model Performance Visualizations\n",
    "\n",
    "To better understand our spam detection model performance, we will visualize:\n",
    "1. **Confusion Matrix** – shows correct vs. incorrect classifications.\n",
    "2. **Classification Report (Precision, Recall, F1-score)** as a heatmap.\n",
    "3. **Cross-Validation Scores** distribution.\n"
   ]
  },
  {
   "cell_type": "code",
   "execution_count": 16,
   "id": "8f0fdfb6-7955-454a-9962-8dcc0b1c457e",
   "metadata": {},
   "outputs": [
    {
     "data": {
      "image/png": "[encoded data removed]",
      "text/plain": [
       "<Figure size 600x500 with 2 Axes>"
      ]
     },
     "metadata": {},
     "output_type": "display_data"
    }
   ],
   "source": [
    "import matplotlib.pyplot as plt\n",
    "import seaborn as sns\n",
    "from sklearn.metrics import ConfusionMatrixDisplay\n",
    "\n",
    "# Confusion Matrix\n",
    "cm = confusion_matrix(y_test, y_pred)\n",
    "plt.figure(figsize=(6,5))\n",
    "sns.heatmap(cm, annot=True, fmt='d', cmap=\"Blues\", xticklabels=['Ham','Spam'], yticklabels=['Ham','Spam'])\n",
    "plt.xlabel(\"Predicted Label\")\n",
    "plt.ylabel(\"True Label\")\n",
    "plt.title(\"Confusion Matrix (Naive Bayes)\")\n",
    "plt.show()\n"
   ]
  },
  {
   "cell_type": "code",
   "execution_count": 17,
   "id": "09368835-3611-410b-999c-edef8d507e1f",
   "metadata": {},
   "outputs": [
    {
     "data": {
      "image/png": "[encoded data removed]",
      "text/plain": [
       "<Figure size 800x500 with 2 Axes>"
      ]
     },
     "metadata": {},
     "output_type": "display_data"
    }
   ],
   "source": [
    "from sklearn.metrics import classification_report\n",
    "import pandas as pd\n",
    "\n",
    "# Get classification report as dict\n",
    "report_dict = classification_report(y_test, y_pred, output_dict=True)\n",
    "report_df = pd.DataFrame(report_dict).transpose()\n",
    "\n",
    "plt.figure(figsize=(8,5))\n",
    "sns.heatmap(report_df.iloc[:-1, :-1], annot=True, cmap=\"YlGnBu\", fmt=\".2f\")\n",
    "plt.title(\"Classification Report (Naive Bayes)\")\n",
    "plt.show()\n"
   ]
  },
  {
   "cell_type": "code",
   "execution_count": 18,
   "id": "6c004cf6-a4e5-4184-bd14-659609b39e5b",
   "metadata": {},
   "outputs": [
    {
     "data": {
      "image/png": "[encoded data removed]",
      "text/plain": [
       "<Figure size 600x400 with 1 Axes>"
      ]
     },
     "metadata": {},
     "output_type": "display_data"
    }
   ],
   "source": [
    "# Cross-validation scores boxplot\n",
    "plt.figure(figsize=(6,4))\n",
    "sns.boxplot(scores)\n",
    "sns.stripplot(scores, color=\"red\", jitter=True, size=8)\n",
    "plt.title(\"Cross-validation F1 Scores (Naive Bayes)\")\n",
    "plt.ylabel(\"F1 Score\")\n",
    "plt.show()\n"
   ]
  },
  {
   "cell_type": "code",
   "execution_count": 19,
   "id": "d4c27d92-02a8-40cd-9a66-dd5fd3b745df",
   "metadata": {},
   "outputs": [
    {
     "data": {
      "image/png": "[encoded data removed]",
      "text/plain": [
       "<Figure size 700x500 with 1 Axes>"
      ]
     },
     "metadata": {},
     "output_type": "display_data"
    }
   ],
   "source": [
    "# Compare models visually\n",
    "model_results = pd.DataFrame({\n",
    "    \"Model\": [\"Naive Bayes\", \"Random Forest\"],\n",
    "    \"Accuracy\": [accuracy_score(y_test, y_pred), 0.977578],\n",
    "    \"F1 Score\": [report_dict[\"weighted avg\"][\"f1-score\"], 0.909091]\n",
    "})\n",
    "\n",
    "model_results.set_index(\"Model\", inplace=True)\n",
    "model_results.plot(kind=\"bar\", figsize=(7,5), colormap=\"Set2\")\n",
    "plt.title(\"Model Performance Comparison\")\n",
    "plt.ylabel(\"Score\")\n",
    "plt.ylim(0,1)\n",
    "plt.show()\n"
   ]
  },
  {
   "cell_type": "markdown",
   "id": "12b8debb-8864-4696-ae36-9d36a9e974dd",
   "metadata": {},
   "source": [
    "## 🔎 Testing Model on New (Unseen) Emails\n",
    "We can now test the trained model on custom email text inputs to see if it classifies them as **Spam (1)** or **Ham (0)**.\n"
   ]
  },
  {
   "cell_type": "code",
   "execution_count": 20,
   "id": "b6f3972b-5307-405f-b25a-10450384d720",
   "metadata": {},
   "outputs": [
    {
     "name": "stdout",
     "output_type": "stream",
     "text": [
      "Email: Congratulations! You've won a $1000 Walmart gift card. Click here to claim your prize.\n",
      "Prediction: Spam\n",
      "\n",
      "Email: Hey, just checking if we’re still on for the meeting tomorrow at 10am?\n",
      "Prediction: Ham\n",
      "\n",
      "Email: Urgent: Your account has been compromised. Please reset your password immediately.\n",
      "Prediction: Spam\n",
      "\n"
     ]
    }
   ],
   "source": [
    "# Example new emails\n",
    "new_emails = [\n",
    "    \"Congratulations! You've won a $1000 Walmart gift card. Click here to claim your prize.\",\n",
    "    \"Hey, just checking if we’re still on for the meeting tomorrow at 10am?\",\n",
    "    \"Urgent: Your account has been compromised. Please reset your password immediately.\"\n",
    "]\n",
    "\n",
    "# Predict using baseline pipeline (Naive Bayes)\n",
    "predictions = baseline_pipeline.predict(new_emails)\n",
    "\n",
    "# Show results\n",
    "for email, label in zip(new_emails, predictions):\n",
    "    print(f\"Email: {email}\\nPrediction: {'Spam' if label == 1 else 'Ham'}\\n\")\n"
   ]
  }
 ],
 "metadata": {
  "kernelspec": {
   "display_name": "Python 3 (ipykernel)",
   "language": "python",
   "name": "python3"
  },
  "language_info": {
   "codemirror_mode": {
    "name": "ipython",
    "version": 3
   },
   "file_extension": ".py",
   "mimetype": "text/x-python",
   "name": "python",
   "nbconvert_exporter": "python",
   "pygments_lexer": "ipython3",
   "version": "3.13.1"
  }
 },
 "nbformat": 4,
 "nbformat_minor": 5
}
